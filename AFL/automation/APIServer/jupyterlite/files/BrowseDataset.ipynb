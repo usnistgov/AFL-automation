{
  "metadata": {
    "kernelspec": {
      "name": "python",
      "display_name": "Python (Pyodide)",
      "language": "python"
    },
    "language_info": {
      "codemirror_mode": {
        "name": "python",
        "version": 3
      },
      "file_extension": ".py",
      "mimetype": "text/x-python",
      "name": "python",
      "nbconvert_exporter": "python",
      "pygments_lexer": "ipython3",
      "version": "3.8"
    }
  },
  "nbformat_minor": 4,
  "nbformat": 4,
  "cells": [
    {
      "cell_type": "code",
      "source": "%pip install netCDF4 xarray ipywidgets plotly \nimport pyodide_http\nimport netCDF4\nimport xarray as xr\nimport urllib\npyodide_http.patch_all()\nfrom DatasetWidget import DatasetWidget\n\nurllib.request.urlretrieve(\"http://localhost:5000/download_last_result\", \"AL.nc\")\nwidget = DatasetWidget(xr.open_dataset('AL.nc'),sample_dim  = 'sans_sample')\nwidget.run()",
      "metadata": {
        "trusted": true
      },
      "outputs": [],
      "execution_count": null
    }
  ]
}